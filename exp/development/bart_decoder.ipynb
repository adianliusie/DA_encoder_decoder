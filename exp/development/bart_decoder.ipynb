{
 "cells": [
  {
   "cell_type": "code",
   "execution_count": 17,
   "metadata": {},
   "outputs": [
    {
     "name": "stdout",
     "output_type": "stream",
     "text": [
      "torch.Size([4, 10, 10])\n"
     ]
    }
   ],
   "source": [
    "from transformers.models.bart.modeling_bart import BartDecoder, shift_tokens_right\n",
    "from transformers import BartConfig\n",
    "import torch.nn as nn\n",
    "\n",
    "class TransformerDecoder(nn.Module):\n",
    "    def __init__(self, num_class, h_size=768, layers=2, heads=12):\n",
    "        config = {'vocab_size':num_class+3, \n",
    "                  'd_model':768, \n",
    "                  'decoder_layers':layers,\n",
    "                  'decoder_attention_heads':heads,\n",
    "                  'decoder_start_token_id':num_class,\n",
    "                  'forced_eos_token_id':num_class+1,\n",
    "                  'pad_token_id':num_class+2}\n",
    "        config = BartConfig(**config)\n",
    "\n",
    "        #save special attributes\n",
    "        self.start_tok = num_class\n",
    "        self.end_tok = num_class+1\n",
    "        self.pad_tok = num_class+2\n",
    "        \n",
    "        #model\n",
    "        super().__init__()\n",
    "        self.decoder = BartDecoder(config)\n",
    "        self.classifier = nn.Linear(h_size, num_class)\n",
    "\n",
    "    def forward(self, encoder_H, encoder_mask, labels):\n",
    "        labels = torch.roll(labels, 1, -1)    #roll labels to use previous\n",
    "        labels[:, 0] = self.start_tok         #set start token\n",
    "\n",
    "        H_dec = self.decoder.forward(\n",
    "                input_ids=labels,\n",
    "                attention_mask=None,\n",
    "                encoder_hidden_states=encoder_H,\n",
    "                encoder_attention_mask=encoder_mask,\n",
    "                return_dict=True)\n",
    "        H_dec = H_dec.last_hidden_state\n",
    "        y = self.classifier(H_dec)\n",
    "        return y\n",
    "\n",
    "T = TransformerDecoder(10)\n",
    "\n",
    "import torch\n",
    "label_ids = torch.randint(0, 10, (4,10))\n",
    "encoder_H = torch.rand((4,10,768))\n",
    "\n",
    "x = T(encoder_H, None, label_ids)\n",
    "print(x.shape)"
   ]
  },
  {
   "cell_type": "code",
   "execution_count": null,
   "metadata": {},
   "outputs": [],
   "source": []
  }
 ],
 "metadata": {
  "kernelspec": {
   "display_name": "Python 3",
   "language": "python",
   "name": "python3"
  },
  "language_info": {
   "codemirror_mode": {
    "name": "ipython",
    "version": 3
   },
   "file_extension": ".py",
   "mimetype": "text/x-python",
   "name": "python",
   "nbconvert_exporter": "python",
   "pygments_lexer": "ipython3",
   "version": "3.8.5"
  }
 },
 "nbformat": 4,
 "nbformat_minor": 4
}
