{
 "cells": [
  {
   "cell_type": "code",
   "execution_count": 2,
   "metadata": {},
   "outputs": [],
   "source": [
    "import sys\n",
    "\n",
    "sys.path.append('/home/alta/Conversational/OET/al826/2022/DA_classification/1.2-encoder_decoder')"
   ]
  },
  {
   "cell_type": "code",
   "execution_count": 8,
   "metadata": {},
   "outputs": [
    {
     "name": "stderr",
     "output_type": "stream",
     "text": [
      "100%|██████████| 20/20 [00:00<00:00, 67.97it/s]\n"
     ]
    }
   ],
   "source": [
    "from src.config import config\n",
    "from src.helpers import ConvHandler\n",
    "from src.models import SystemHandler\n",
    "\n",
    "\n",
    "C = ConvHandler(transformer='longformer', \n",
    "                filters=['action'])\n",
    "\n",
    "batcher = SystemHandler.batcher(\n",
    "               formatting=None,\n",
    "               system='utt_trans',\n",
    "               max_len=None)\n",
    "\n",
    "train = C.prepare_data(path='swda/standard/train.json', lim=20)\n",
    "train_b = batcher(data=train, bsz=1, shuffle=False)"
   ]
  },
  {
   "cell_type": "code",
   "execution_count": 9,
   "metadata": {},
   "outputs": [
    {
     "name": "stdout",
     "output_type": "stream",
     "text": [
      "<s>Do you have children?</s>Uh, yes.</s>Uh, we have two sons.</s>Uh, one's a freshman in college</s>and one's a sophomore in high school.</s>Oh.</s>And you?</s>I have one that's a freshman in high school, a daughter. And a son who's a sixth grader in a middle school.</s>Okay.</s>And I spend most of my time carpooling.</s>Oh.</s>The story of my life.</s>Yes.</s>Yes.</s>My kids are involved in sports.</s>My daughter has played basketball for six years,</s>and my son plays football.</s>I, -</s>my rule is that they can't play a sport the same time of the year,</s>Yeah.</s>because there's just not enough of me to drive them around everywhere.</s>Uh, well, uh, yeah.</s>We've spend a lo-, spend a n-, did spend a lot of time, uh,</s>it really helped when the, uh, older one was old enough to get his license and could, uh --</s>Yes.</s>-- drive around by himself although that brought in a whole n-, other set of problems.</s>I know,</s>.</s>I know.</s>The insurance.</s>But, uh, I, uh, fo-, -</s>yeah,</s>for one thing.</s>Uh, but yeah,</s>we, uh, we do</s>but our two had, had, uh, totally different interests of, -</s>but the-, there was not much, uh, overlap as such.</s>The, the older one is not, was not at all into, uh, sports for the most part.</s>Uh, he participated -</s>band and, and, uh, scouts were his two big things.</s>Yes.</s>My son,</s>And, uh --</s>is in both band and scouts too.</s>-- and the, yeah, younger one is, uh, uh, the sports one</s>and the, whatever season it is he's, he's playing,</s>Oh, gee.</s>although football is really his favorite.</s>Yeah.</s>So, uh, yeah,</s>we spend a lot of time, uh, uh, carpooling and, uh, you know, and then trying to be, uh, up as much as possible with anything that they, that they do.</s>Right.</s>But then, uh, we also ), spend, uh, time with them trying to, trying to, -</s>uh, you know, just family time.</s>Uh-huh.</s>Uh, we had a, -</s>at a fairly young age we started teaching them to play games and card games and so forth.</s>And, and, uh, uh, but we didn't, uh, do it as much or as often as, uh, I would have liked to.</s>I would like to do that as a, as a family and,</s>Yeah.</s>and some T V watching.</s>What about you?</s>We found this Oriental ) game called ).</s>Yeah,</s>I've, I've heard of that.</s>Have you?</s>I've never actually, never actually played it.</s>But, -</s>Well, it's really fun.</s>Um, one of my neighbors moved here from Memphis</s>and a lot of them played it,</s>and she started a group going in the neighborhood</s>and my kids wanted to learn how to play it</s>and it's more fun with four people.</s>Yeah,</s>yeah.</s>And it's a game that none of their friends know how to play,</s>and they both enjoy it.</s>So if they want to play, they have to play with mom and dad.</s>Yeah.</s>So, uh, we play that a lot of them,</s>and, uh, we like to go miniature golfing and to movies.</s>Yeah.</s>We have family that lives outside of the state</s>so we go visit both sets of grandparents and, and take car trips.</s>Yeah,</s>so do we.</s>So, that, -</s>and my husband and son go camping --</s>Okay.</s>-- with scouts mostly.</s>Yeah.</s>My daughter and, and I hate camping so we go shopping.</s>.</s>So that just kind of works out real well.</s>Yeah.</s>And, um, I'm a writer by profession</s>and my daughter enjoys writing too,</s>so a lot of times, she and I will travel to writers conferences together.</s>Oh, now that's neat.</s>Yeah.</s># Yeah.</s># No,</s>we've never had anything --</s>Yeah.</s>-- like that.</s>So that gives us special time together # too. #</s># Yeah. #</s>And she's on the yearbook staff and things like that</s>so I can help her with that</s>and she gives me ideas for my writing too #</s>so. # -</s># Uh-huh. #</s># Yep. #</s># Uh-huh.</s># Oh, well, good.</s>Well, I, you know, in terms of, in terms of any sorts of trends I, you know, -</s>obv-, obviously things are different from, for me than, and my children than when I was growing up.</s>Yeah.</s>I, I, I grew up on a farm, uh, in Iowa,</s>and, uh, you know the whole family was around the, the whole time.</s>And then what my father did was, was, uh, in-, you know, obvious to me</s>and I, I helped out with it.</s>But, uh, although I have brought my boys into to see where I work, it's not that easy,</s>and it's, it's certainly not at all common,</s>and they, they just don't really have that same idea,</s>Right.</s>so th-, they, uh, -</s>it's a, it's a whole different, uh, kind of thing there then, uh,</s>My husband has taken us to work with him,</s>and we still don't know what he does.</s>Yeah.</s>So, we just say he travels a lot.</s>So, that kind of covers it.</s>Yeah.</s>Yeah.</s>Well, that makes it hard though for in terms of, you know, family time with,</s>Yes.</s>with him.</s>Yeah.</s>Yeah,</s>I've been lucky in that respect that I don't, uh, don't travel too much ).</s>He's been on temporary duties where he's been gone nine months.</s>Oh.</s>Yes.</s>Yeah.</s>So those are the real killers.</s>If he's just gone, -</s>Yes.</s>he's gone three weeks right now</s>and that's, that's mild compare to the big ones,</s>Yeah.</s>so we just, you know. I just do the carpooling and, and handle whatever needs to be done.</s>And something major,</s>Yeah.</s>always needs to be done.</s>Yeah.</s>So --</s>Yeah.</s>-- you just have to, to handle it until he gets home.</s>Yeah,</s>right.</s>And hopefully he won't have too many surprises when he gets home.</s>\n"
     ]
    },
    {
     "ename": "KeyboardInterrupt",
     "evalue": "",
     "output_type": "error",
     "traceback": [
      "\u001b[0;31m---------------------------------------------------------------------------\u001b[0m",
      "\u001b[0;31mKeyboardInterrupt\u001b[0m                         Traceback (most recent call last)",
      "\u001b[0;32m<ipython-input-9-bf051339174e>\u001b[0m in \u001b[0;36m<module>\u001b[0;34m\u001b[0m\n\u001b[1;32m      8\u001b[0m     \u001b[0mprint\u001b[0m\u001b[0;34m(\u001b[0m\u001b[0mC\u001b[0m\u001b[0;34m.\u001b[0m\u001b[0mtokenizer\u001b[0m\u001b[0;34m.\u001b[0m\u001b[0mdecode\u001b[0m\u001b[0;34m(\u001b[0m\u001b[0mb\u001b[0m\u001b[0;34m.\u001b[0m\u001b[0mids\u001b[0m\u001b[0;34m[\u001b[0m\u001b[0;36m0\u001b[0m\u001b[0;34m]\u001b[0m\u001b[0;34m)\u001b[0m\u001b[0;34m)\u001b[0m\u001b[0;34m\u001b[0m\u001b[0;34m\u001b[0m\u001b[0m\n\u001b[1;32m      9\u001b[0m     \u001b[0;31m#print([b.ids[k, j] for k, j in enumerate(b.utt_pos)])\u001b[0m\u001b[0;34m\u001b[0m\u001b[0;34m\u001b[0m\u001b[0;34m\u001b[0m\u001b[0m\n\u001b[0;32m---> 10\u001b[0;31m     \u001b[0mtime\u001b[0m\u001b[0;34m.\u001b[0m\u001b[0msleep\u001b[0m\u001b[0;34m(\u001b[0m\u001b[0;36m2\u001b[0m\u001b[0;34m)\u001b[0m\u001b[0;34m\u001b[0m\u001b[0;34m\u001b[0m\u001b[0m\n\u001b[0m",
      "\u001b[0;31mKeyboardInterrupt\u001b[0m: "
     ]
    }
   ],
   "source": [
    "import time\n",
    "import torch\n",
    "\n",
    "#print(sum(1 for _ in train_b))\n",
    "\n",
    "for k, b in enumerate(train_b):\n",
    "    #print(b.labels)\n",
    "    print(C.tokenizer.decode(b.ids[0]))\n",
    "    #print([b.ids[k, j] for k, j in enumerate(b.utt_pos)])\n",
    "    time.sleep(2)"
   ]
  },
  {
   "cell_type": "code",
   "execution_count": null,
   "metadata": {},
   "outputs": [],
   "source": [
    "source = torch.tensor([[1,2,3], [4,5,6], [7,8,9], [10,11,12]])\n",
    "index = torch.tensor([[0],[1],[2],[1]])\n",
    "\n",
    "print(source)\n",
    "print(index)\n",
    "source.gather(dim=1, index=index)"
   ]
  },
  {
   "cell_type": "code",
   "execution_count": null,
   "metadata": {},
   "outputs": [],
   "source": [
    "import torch\n",
    "\n",
    "a = torch.randint(0,20,(3,5,2))\n",
    "b = torch.LongTensor([2,0,0])\n",
    "\n",
    "print('\\n input tesnors \\n')\n",
    "print(a)\n",
    "print(b)\n",
    "\n",
    "print('\\n expected answers \\n')\n",
    "print(a[0,b[0]])\n",
    "print(a[1,b[1]])\n",
    "print(a[2,b[2]])\n",
    "\n",
    "print('\\n b looking \\n')\n",
    "b = b.unsqueeze(-1)\n",
    "b = b.repeat(1,2)\n",
    "b = b.unsqueeze(1)\n",
    "print(b)\n",
    "print(b.shape)\n",
    "\n",
    "print('\\n gather output \\n')\n",
    "print(a.gather(1, b))"
   ]
  },
  {
   "cell_type": "code",
   "execution_count": null,
   "metadata": {},
   "outputs": [],
   "source": [
    "import torch\n",
    "\n",
    "a = torch.randint(0,20,(6,2))\n",
    "b = torch.LongTensor([1,2,2])\n",
    "\n",
    "print('\\n input tesnors \\n')\n",
    "print(a)\n",
    "print(b)\n",
    "\n",
    "print('\\n expected answers \\n')\n",
    "print(a[b[0]])\n",
    "print(a[b[1]])\n",
    "print(a[b[2]])\n",
    "\n",
    "print('\\n b looking \\n')\n",
    "b = b.unsqueeze(-1)\n",
    "b = b.repeat(1, 2)\n",
    "\n",
    "print('\\n gather output \\n')\n",
    "print(a.gather(0, b))"
   ]
  },
  {
   "cell_type": "code",
   "execution_count": null,
   "metadata": {},
   "outputs": [],
   "source": []
  }
 ],
 "metadata": {
  "kernelspec": {
   "display_name": "Python 3",
   "language": "python",
   "name": "python3"
  },
  "language_info": {
   "codemirror_mode": {
    "name": "ipython",
    "version": 3
   },
   "file_extension": ".py",
   "mimetype": "text/x-python",
   "name": "python",
   "nbconvert_exporter": "python",
   "pygments_lexer": "ipython3",
   "version": "3.8.5"
  }
 },
 "nbformat": 4,
 "nbformat_minor": 4
}
